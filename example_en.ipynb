{
 "cells": [
  {
   "cell_type": "code",
   "execution_count": 1,
   "metadata": {},
   "outputs": [
    {
     "name": "stderr",
     "output_type": "stream",
     "text": [
      "Downloading: 100%|██████████| 28.0/28.0 [00:00<00:00, 4.70kB/s]\n",
      "Downloading: 100%|██████████| 483/483 [00:00<00:00, 272kB/s]\n",
      "Downloading: 100%|██████████| 226k/226k [00:00<00:00, 269kB/s]  \n",
      "Downloading: 100%|██████████| 455k/455k [00:01<00:00, 443kB/s] \n",
      "Downloading: 100%|██████████| 256M/256M [01:15<00:00, 3.54MB/s]   \n",
      "Some weights of the model checkpoint at distilbert-base-uncased were not used when initializing DistilBertModel: ['vocab_transform.weight', 'vocab_projector.weight', 'vocab_layer_norm.weight', 'vocab_layer_norm.bias', 'vocab_transform.bias', 'vocab_projector.bias']\n",
      "- This IS expected if you are initializing DistilBertModel from the checkpoint of a model trained on another task or with another architecture (e.g. initializing a BertForSequenceClassification model from a BertForPreTraining model).\n",
      "- This IS NOT expected if you are initializing DistilBertModel from the checkpoint of a model that you expect to be exactly identical (initializing a BertForSequenceClassification model from a BertForSequenceClassification model).\n"
     ]
    },
    {
     "ename": "NameError",
     "evalue": "name 'translations' is not defined",
     "output_type": "error",
     "traceback": [
      "\u001b[0;31m---------------------------------------------------------------------------\u001b[0m",
      "\u001b[0;31mNameError\u001b[0m                                 Traceback (most recent call last)",
      "Input \u001b[0;32mIn [1]\u001b[0m, in \u001b[0;36m<module>\u001b[0;34m\u001b[0m\n\u001b[1;32m      4\u001b[0m \u001b[38;5;28;01mfrom\u001b[39;00m \u001b[38;5;21;01mmoverscore_v2\u001b[39;00m \u001b[38;5;28;01mimport\u001b[39;00m get_idf_dict, word_mover_score \n\u001b[1;32m      5\u001b[0m \u001b[38;5;28;01mfrom\u001b[39;00m \u001b[38;5;21;01mcollections\u001b[39;00m \u001b[38;5;28;01mimport\u001b[39;00m defaultdict\n\u001b[0;32m----> 7\u001b[0m idf_dict_hyp \u001b[38;5;241m=\u001b[39m get_idf_dict(\u001b[43mtranslations\u001b[49m) \u001b[38;5;66;03m# idf_dict_hyp = defaultdict(lambda: 1.)\u001b[39;00m\n\u001b[1;32m      8\u001b[0m idf_dict_ref \u001b[38;5;241m=\u001b[39m get_idf_dict(references) \u001b[38;5;66;03m# idf_dict_ref = defaultdict(lambda: 1.)\u001b[39;00m\n\u001b[1;32m     10\u001b[0m scores \u001b[38;5;241m=\u001b[39m word_mover_score(references, translations, idf_dict_ref, idf_dict_hyp, \\\n\u001b[1;32m     11\u001b[0m                           stop_words\u001b[38;5;241m=\u001b[39m[], n_gram\u001b[38;5;241m=\u001b[39m\u001b[38;5;241m1\u001b[39m, remove_subwords\u001b[38;5;241m=\u001b[39m\u001b[38;5;28;01mTrue\u001b[39;00m)\n",
      "\u001b[0;31mNameError\u001b[0m: name 'translations' is not defined"
     ]
    }
   ],
   "source": [
    "# Use the original version with BERTMNLI to reproduce the results.\n",
    "#from moverscore import get_idf_dict, word_mover_score\n",
    "# Recommend to use this version (DistilBERT) for evaluation, if the speed is your concern.\n",
    "from moverscore_v2 import get_idf_dict, word_mover_score \n",
    "from collections import defaultdict\n",
    "\n",
    "idf_dict_hyp = get_idf_dict(translations) # idf_dict_hyp = defaultdict(lambda: 1.)\n",
    "idf_dict_ref = get_idf_dict(references) # idf_dict_ref = defaultdict(lambda: 1.)\n",
    "\n",
    "scores = word_mover_score(references, translations, idf_dict_ref, idf_dict_hyp, \\\n",
    "                          stop_words=[], n_gram=1, remove_subwords=True)"
   ]
  },
  {
   "cell_type": "code",
   "execution_count": null,
   "metadata": {},
   "outputs": [],
   "source": [
    "refs = [['The dog bit the man.', 'It was not unexpected.', 'The man bit him first.'],\n",
    "        ['The dog had bit the man.', 'No one was surprised.', 'The man had bitten the dog.']]\n",
    "sys = ['The dog bit the man.', \"It wasn't surprising.\", 'The man had just bitten him.']\n",
    "\n",
    "moverscore = corpus_score(sys, refs)\n"
   ]
  },
  {
   "cell_type": "code",
   "execution_count": null,
   "metadata": {},
   "outputs": [],
   "source": [
    "refs = ['The dog bit the man.', 'The dog had bit the man.']\n",
    "sys = 'The dog bit the man.'\n",
    "\n",
    "moverscore = sentence_score(sys, refs)"
   ]
  },
  {
   "cell_type": "code",
   "execution_count": null,
   "metadata": {},
   "outputs": [],
   "source": [
    "import os \n",
    "os.environ['MOVERSCORE_MODEL'] = \"albert-base-v2\"\n",
    "\n",
    "from moverscore_v2 import get_idf_dict\n",
    "idf_dict_hyp = get_idf_dict(translations)"
   ]
  },
  {
   "cell_type": "code",
   "execution_count": null,
   "metadata": {},
   "outputs": [],
   "source": [
    "!python examples/run_MT.py"
   ]
  },
  {
   "cell_type": "code",
   "execution_count": null,
   "metadata": {},
   "outputs": [],
   "source": [
    "!python examples/run_summarization.py"
   ]
  },
  {
   "cell_type": "code",
   "execution_count": null,
   "metadata": {},
   "outputs": [],
   "source": [
    "from moverscore_v2 import plot_example\n",
    "\n",
    "reference = 'they are now equipped with air conditioning and new toilets.'\n",
    "translation = 'they have air conditioning and new toilets.'\n",
    "plot_example(True, reference, translation)"
   ]
  }
 ],
 "metadata": {
  "interpreter": {
   "hash": "9b742264cd24c395e854a570b67ef3c1d7de59004fba17671ce683f023ba8611"
  },
  "kernelspec": {
   "display_name": "Python 3.9.10 ('venv': venv)",
   "language": "python",
   "name": "python3"
  },
  "language_info": {
   "codemirror_mode": {
    "name": "ipython",
    "version": 3
   },
   "file_extension": ".py",
   "mimetype": "text/x-python",
   "name": "python",
   "nbconvert_exporter": "python",
   "pygments_lexer": "ipython3",
   "version": "3.9.10"
  },
  "orig_nbformat": 4
 },
 "nbformat": 4,
 "nbformat_minor": 2
}
